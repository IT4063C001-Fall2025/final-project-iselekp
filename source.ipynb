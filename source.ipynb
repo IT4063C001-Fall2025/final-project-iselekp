{
 "cells": [
  {
   "attachments": {},
   "cell_type": "markdown",
   "metadata": {},
   "source": [
    "# {Project Title}📝\n",
    "\n",
    "![Banner](./assets/banner.jpeg)"
   ]
  },
  {
   "attachments": {},
   "cell_type": "markdown",
   "metadata": {},
   "source": [
    "## Topic\n",
    "*What problem are you (or your stakeholder) trying to address?*\n",
    "📝 <!-- Answer Below -->\n",
    "\n",
    "The problem is to identify the best places on earth for astronomical viewing.\n",
    "\n",
    "“Light pollution limits the visibility of [the] milky way to the unaided eye, the [visibility] of nebulae and galaxies seen in telescopes, and raises the noise on CCD astrophotographs. Only the observation of planets and double stars is unaffected. Low light pollution conditions, or dark skies, is one of the most important properties of a good [astronomical] observing site.” Attilla Danko\n",
    "\n",
    "With the expansion of industrial areas and human settlements, the amount of light and air pollution across Earth is increasing, so the areas with good astronomical observing are dwindling even assuming consistent weather patterns. Therefore, I would like to analyze several variables across Earth’s surface that impact astronomical viewing and identify the best regions. Amateur and professional astronomers can make the best observations in those regions and potentially petition for dark sky preserves in those regions to ensure future generations can view the cosmos in their full beauty. \n"
   ]
  },
  {
   "attachments": {},
   "cell_type": "markdown",
   "metadata": {},
   "source": [
    "## Project Question\n",
    "*What specific question are you seeking to answer with this project?*\n",
    "*This is not the same as the questions you ask to limit the scope of the project.*\n",
    "📝 <!-- Answer Below -->\n",
    "\n",
    "What regions of Earth have the best combination of environmental variables for astronomical viewing? \n",
    "\n",
    "Of those regions, which ones are closest to large populations of people? Dark sites would not be useful if the vast majority of people have to travel far to reach them. \n"
   ]
  },
  {
   "attachments": {},
   "cell_type": "markdown",
   "metadata": {},
   "source": [
    "## What would an answer look like?\n",
    "*What is your hypothesized answer to your question?*\n",
    "📝 <!-- Answer Below -->\n",
    "\n",
    "The answer will look like a world map with regions highlighted by a color scale according to how optimal the regions are for astronomical observing. The primary variable is light pollution, so the final map with all variables factored in will look something like this:\n",
    "\n",
    "https://djlorenz.github.io/astronomy/lp2024/world2024_low3.png\n"
   ]
  },
  {
   "cell_type": "code",
   "execution_count": null,
   "metadata": {},
   "outputs": [],
   "source": [
    "import pandas as pd\n",
    "import numpy as np\n",
    "from PIL import Image\n",
    "from matplotlib.image import imread\n"
   ]
  },
  {
   "attachments": {},
   "cell_type": "markdown",
   "metadata": {},
   "source": [
    "## Data Sources\n",
    "*What 3 data sources have you identified for this project?*\n",
    "*How are you going to relate these datasets?*\n",
    "📝 <!-- Answer Below -->\n",
    "\n",
    "Data:\n",
    "\n",
    "Dark sky atlas (indicates light pollution)\n",
    "https://djlorenz.github.io/astronomy/lp/\n",
    "\n",
    "Cloud cover\n",
    "https://www.esa.int/Applications/Observing_the_Earth/Space_for_our_climate/Highlights/Cloud_cover\n",
    "\n",
    "Humidity (indicates transparency)\n",
    "https://globaldatalab.org/geos/table/relhumidityyear/\n",
    "\n",
    "Topography (indicates transparency)\n",
    "https://www.visibleearth.nasa.gov/images/73934/topography\n",
    "\n",
    "Earth population map\n",
    "https://neo.gsfc.nasa.gov/view.php?datasetId=SEDAC_POP\n",
    "\n",
    "Relating the data sets:\n",
    "1. Scale and crop each image/dataset so their geographical data overlays 1:1\n",
    "2. Normalize/grayscale each dataset so each variable is in a range of 0-1.0\n",
    "3. Multiple the datasets together\n"
   ]
  },
  {
   "attachments": {},
   "cell_type": "markdown",
   "metadata": {},
   "source": [
    "## Approach and Analysis\n",
    "*What is your approach to answering your project question?*\n",
    "*How will you use the identified data to answer your project question?*\n",
    "📝 <!-- Start Discussing the project here; you can add as many code cells as you need -->"
   ]
  },
  {
   "cell_type": "code",
   "execution_count": 12,
   "metadata": {},
   "outputs": [
    {
     "name": "stdout",
     "output_type": "stream",
     "text": [
      "(5600, 14400, 4)\n"
     ]
    }
   ],
   "source": [
    "# Open light pollution data\n",
    "lp = Image.open(\"data/LP_world2024B_low3.png\")\n",
    "lp.show()\n",
    "lp_arr = imread(\"data/LP_world2024B_low3.png\")\n",
    "print(lp_arr.shape)"
   ]
  },
  {
   "cell_type": "code",
   "execution_count": 13,
   "metadata": {},
   "outputs": [
    {
     "name": "stdout",
     "output_type": "stream",
     "text": [
      "(529, 983, 3)\n"
     ]
    }
   ],
   "source": [
    "# Open clouds data\n",
    "clouds = Image.open(\"data/Cloud_cover.jpg\")\n",
    "clouds.show()\n",
    "clouds_arr = imread(\"data/Cloud_cover.jpg\")\n",
    "print(clouds_arr.shape)"
   ]
  },
  {
   "cell_type": "code",
   "execution_count": 14,
   "metadata": {},
   "outputs": [
    {
     "name": "stdout",
     "output_type": "stream",
     "text": [
      "(10800, 21600)\n"
     ]
    }
   ],
   "source": [
    "# Open elevation data\n",
    "elev_arr = imread(\"data/gebco_08_rev_elev_21600x10800.png\")\n",
    "print(elev_arr.shape)"
   ]
  },
  {
   "cell_type": "code",
   "execution_count": 15,
   "metadata": {},
   "outputs": [
    {
     "name": "stdout",
     "output_type": "stream",
     "text": [
      "(1800, 3600)\n"
     ]
    }
   ],
   "source": [
    "# Open population data\n",
    "pop = Image.open(\"data/earth_pop_grayscale.jpeg\")\n",
    "pop.show()\n",
    "pop_arr = imread(\"data/earth_pop_grayscale.jpeg\")\n",
    "print(pop_arr.shape)"
   ]
  },
  {
   "cell_type": "code",
   "execution_count": 16,
   "metadata": {},
   "outputs": [],
   "source": [
    "# Open humidity data\n",
    "humid = pd.read_csv(\"data/GDL-Yearly-Average-Relative-Humidity.csv\")"
   ]
  },
  {
   "attachments": {},
   "cell_type": "markdown",
   "metadata": {},
   "source": [
    "## Resources and References\n",
    "*What resources and references have you used for this project?*\n",
    "📝 <!-- Answer Below -->"
   ]
  },
  {
   "cell_type": "code",
   "execution_count": 2,
   "metadata": {},
   "outputs": [
    {
     "name": "stdout",
     "output_type": "stream",
     "text": [
      "[NbConvertApp] Converting notebook source.ipynb to python\n",
      "[NbConvertApp] Writing 1271 bytes to source.py\n"
     ]
    }
   ],
   "source": [
    "# ⚠️ Make sure you run this cell at the end of your notebook before every submission!\n",
    "!jupyter nbconvert --to python source.ipynb"
   ]
  }
 ],
 "metadata": {
  "kernelspec": {
   "display_name": ".venv",
   "language": "python",
   "name": "python3"
  },
  "language_info": {
   "codemirror_mode": {
    "name": "ipython",
    "version": 3
   },
   "file_extension": ".py",
   "mimetype": "text/x-python",
   "name": "python",
   "nbconvert_exporter": "python",
   "pygments_lexer": "ipython3",
   "version": "3.11.2"
  },
  "orig_nbformat": 4
 },
 "nbformat": 4,
 "nbformat_minor": 2
}
